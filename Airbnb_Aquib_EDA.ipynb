{
  "nbformat": 4,
  "nbformat_minor": 0,
  "metadata": {
    "colab": {
      "private_outputs": true,
      "provenance": [],
      "collapsed_sections": [
        "w6K7xa23Elo4",
        "mDgbUHAGgjLW",
        "3RnN4peoiCZX",
        "QF4ysc4oJsRC",
        "SxtGSho6JsRN",
        "97ktiProJtWX",
        "u34lS6nmJtWh",
        "w2xnC4bLJtWi",
        "BZR9WyysphqO",
        "eZrbJ2SmphqO",
        "EM7whBJCYoAo",
        "bamQiAODYuh1",
        "QHF8YVU7Yuh3",
        "PIIx-8_IphqN",
        "t27r6nlMphqO",
        "OH-pJp9IphqM",
        "_ouA3fa0phqN",
        "YJ55k-q6phqO",
        "U2RJ9gkRphqQ",
        "JMzcOPDDphqR",
        "n3dbpmDWp1ck",
        "lX0lq43jgLCy",
        "Ag9LCva-p1cl",
        "2tZ8p513elQe",
        "TdTfrjTCelQp",
        "pSpWVZQlezFF",
        "kpU-xbyAezFL",
        "bc0B9xLDezFL",
        "loEERgVkezFL",
        "03n8oisnfWwt",
        "pcA1H_0qfWwz",
        "4rHdv9YlfWw0",
        "OUBemzRO2tKO",
        "NC_X3p0fY2L0",
        "q29F0dvdveiT",
        "EXh0U9oCveiU",
        "8G2x9gOozGDZ",
        "gCX9965dhzqZ",
        "gIfDvo9L0UH2"
      ]
    },
    "kernelspec": {
      "name": "python3",
      "display_name": "Python 3"
    },
    "language_info": {
      "name": "python"
    }
  },
  "cells": [
    {
      "cell_type": "markdown",
      "source": [
        "# **Airbnb EDA**    -\n",
        "\n"
      ],
      "metadata": {
        "id": "vncDsAP0Gaoa"
      }
    },
    {
      "cell_type": "markdown",
      "source": [
        "##### **Project Type**    - EDA\n",
        "##### **Contribution**    - Individual\n"
      ],
      "metadata": {
        "id": "beRrZCGUAJYm"
      }
    },
    {
      "cell_type": "markdown",
      "source": [
        "# **Project Summary -**"
      ],
      "metadata": {
        "id": "FJNUwmbgGyua"
      }
    },
    {
      "cell_type": "markdown",
      "source": [
        "This project conducted a comprehensive analysis of the Airbnb dataset in New York City, aiming to uncover actionable insights for enhancing guest experiences, identifying growth opportunities, empowering hosts, and optimizing pricing strategies\n",
        "\n",
        "The dataset, comprising over 48,000 listings, offered a rich source of information on location, price, room type, reviews, and host details\n",
        "\n",
        "Through meticulous data cleaning and preprocessing, I prepared the dataset for in-depth analysis. Key steps included handling missing values, addressing outliers, and extracting date components for temporal analysis. Additionally, I filtered out listings with zero reviews to refine our identification of growing neighborhoods\n",
        "\n",
        "**Key Findings and Insights**\n",
        "\n",
        "*Customer Preferences & Market Dynamics:*\n",
        "\n",
        "* Distinct customer segments emerged based on preferences for neighborhoods, price, and room type.\n",
        "\n",
        "* Brooklyn was the most preferred neighborhood group, with Williamsburg and Bedford-Stuyvesant leading in popularity.\n",
        "\n",
        "* Manhattan commanded premium prices, while Queens and the Bronx offered more affordable options.\n",
        "\n",
        "* Entire homes/apartments were the dominant room type, suggesting a preference for privacy and space\n",
        "\n",
        "* A seasonal trend in prices was observed, with peaks from October to January.\n",
        "\n",
        "* The busiest booking and review days were Sundays, Mondays, and Saturdays.\n",
        "\n",
        "* The trend of reviews over time showcased significant growth, particularly in 2019.\n",
        "\n",
        "*Growth Opportunities:*\n",
        "\n",
        "* I identified several growing neighborhoods, primarily in Staten Island and Brooklyn, characterized by high booking rates and lower listing density.\n",
        "\n",
        "* The geographical distribution analysis revealed concentrated Airbnb activity in Brooklyn and Manhattan, while Queens exhibited a wider spread of listings, suggesting potential for expansion in less dense areas.\n",
        "\n",
        "*Host Performance & Empowerment:*\n",
        "\n",
        "* I identified the most active hosts based on reviews, highlighting successful practices in guest engagement.\n",
        "\n",
        "* Analysis revealed no strong correlation between the number of reviews and average price, suggesting other factors play a significant role in pricing.\n",
        "\n",
        "* A considerable number of properties with zero reviews were identified, indicating a need for proactive host engagement and support.\n",
        "\n",
        "*Pricing Strategies & Market Insights:*\n",
        "\n",
        "* Room type and neighborhood significantly impact pricing, with Entire home/apt listings commanding a premium and Manhattan being the most expensive borough\n",
        "\n",
        "* A seasonal trend in prices was observed, with peaks during the holiday season and winter months\n",
        "\n",
        "* No strong correlation was found between availability and price, suggesting potential for dynamic pricing strategies\n",
        "\n",
        "**Conclusion**\n",
        "\n",
        "This analysis provides Airbnb with valuable, data-driven insights into customer preferences, market dynamics, host performance, and pricing strategies. These findings can inform targeted marketing campaigns, personalized recommendations, host empowerment initiatives, and pricing optimization efforts to enhance the guest experience, expand market reach, and drive sustainable growth in the New York City market."
      ],
      "metadata": {
        "id": "F6v_1wHtG2nS"
      }
    },
    {
      "cell_type": "markdown",
      "source": [
        "# **GitHub Link -**"
      ],
      "metadata": {
        "id": "w6K7xa23Elo4"
      }
    },
    {
      "cell_type": "markdown",
      "source": [
        "Provide your GitHub Link here"
      ],
      "metadata": {
        "id": "h1o69JH3Eqqn"
      }
    },
    {
      "cell_type": "markdown",
      "source": [
        "# **Problem Statement**\n"
      ],
      "metadata": {
        "id": "yQaldy8SH6Dl"
      }
    },
    {
      "cell_type": "markdown",
      "source": [
        "Airbnb, operating in the dynamic New York City market, faces the challenge of understanding and catering to the diverse preferences of its guests and hosts.\n",
        "\n",
        "The platform needs to:\n",
        "\n",
        "***Enhance the guest experience and boost bookings by understanding and catering to diverse customer preferences.***\n",
        "\n",
        "***Identify and promote emerging neighborhoods to expand market reach and tap into new growth opportunities***\n",
        "\n",
        "***Empower hosts to succeed by providing support and resources that enable them to optimize their listings and deliver exceptional guest experiences.***\n",
        "\n",
        "***Develop data-driven pricing strategies that maximize revenue for both Airbnb and its hosts while maintaining competitive pricing and ensuring guest satisfaction***"
      ],
      "metadata": {
        "id": "DpeJGUA3kjGy"
      }
    },
    {
      "cell_type": "markdown",
      "source": [
        "#### **Define Your Business Objective?**"
      ],
      "metadata": {
        "id": "PH-0ReGfmX4f"
      }
    },
    {
      "cell_type": "markdown",
      "source": [
        "**Understanding Customer Preferences and Market Dynamics**:\n",
        "Objective -->  Increase overall bookings and revenue by providing a more personalized and satisfying experience for guests.\n",
        "\n",
        "**Identifying Growth Opportunities**:\n",
        "Objective  -->  Identify and promote emerging neighborhoods to tap into new growth opportunities and diversify Airbnb's presence in New York City.\n",
        "\n",
        "**Empowering Hosts and Optimizing the Host Experience**:\n",
        "Objective  -->  Foster a thriving host community by providing support and resources to help hosts succeed on the platform.\n",
        "\n",
        "**Pricing Strategies and Market Insights**:\n",
        "Objective  -->  Develop pricing strategies that maximize revenue for both Airbnb and its hosts while ensuring guest satisfaction and maintaining competitive pricing."
      ],
      "metadata": {
        "id": "PhDvGCAqmjP1"
      }
    },
    {
      "cell_type": "markdown",
      "source": [
        "# **General Guidelines** : -  "
      ],
      "metadata": {
        "id": "mDgbUHAGgjLW"
      }
    },
    {
      "cell_type": "markdown",
      "source": [
        "1.   Well-structured, formatted, and commented code is required.\n",
        "2.   Exception Handling, Production Grade Code & Deployment Ready Code will be a plus. Those students will be awarded some additional credits.\n",
        "     \n",
        "     The additional credits will have advantages over other students during Star Student selection.\n",
        "       \n",
        "             [ Note: - Deployment Ready Code is defined as, the whole .ipynb notebook should be executable in one go\n",
        "                       without a single error logged. ]\n",
        "\n",
        "3.   Each and every logic should have proper comments.\n",
        "4. You may add as many number of charts you want. Make Sure for each and every chart the following format should be answered.\n",
        "        \n",
        "\n",
        "```\n",
        "# Chart visualization code\n",
        "```\n",
        "            \n",
        "\n",
        "*   Why did you pick the specific chart?\n",
        "*   What is/are the insight(s) found from the chart?\n",
        "* Will the gained insights help creating a positive business impact?\n",
        "Are there any insights that lead to negative growth? Justify with specific reason.\n",
        "\n",
        "5. You have to create at least 20 logical & meaningful charts having important insights.\n",
        "\n",
        "\n",
        "[ Hints : - Do the Vizualization in  a structured way while following \"UBM\" Rule.\n",
        "\n",
        "U - Univariate Analysis,\n",
        "\n",
        "B - Bivariate Analysis (Numerical - Categorical, Numerical - Numerical, Categorical - Categorical)\n",
        "\n",
        "M - Multivariate Analysis\n",
        " ]\n",
        "\n",
        "\n",
        "\n"
      ],
      "metadata": {
        "id": "ZrxVaUj-hHfC"
      }
    },
    {
      "cell_type": "markdown",
      "source": [
        "# ***Let's Begin !***"
      ],
      "metadata": {
        "id": "O_i_v8NEhb9l"
      }
    },
    {
      "cell_type": "markdown",
      "source": [
        "## ***1. Know Your Data***"
      ],
      "metadata": {
        "id": "HhfV-JJviCcP"
      }
    },
    {
      "cell_type": "markdown",
      "source": [
        "### Import Libraries"
      ],
      "metadata": {
        "id": "Y3lxredqlCYt"
      }
    },
    {
      "cell_type": "code",
      "source": [
        "# Import Libraries\n",
        "\n",
        "import pandas as pd\n",
        "import numpy as np\n",
        "import matplotlib.pyplot as plt\n",
        "import seaborn as sns\n",
        "import gdown"
      ],
      "metadata": {
        "id": "M8Vqi-pPk-HR"
      },
      "execution_count": null,
      "outputs": []
    },
    {
      "cell_type": "markdown",
      "source": [
        "### Dataset Loading"
      ],
      "metadata": {
        "id": "3RnN4peoiCZX"
      }
    },
    {
      "cell_type": "code",
      "source": [
        "#Fetching the dataset from drive\n",
        "\n",
        "!pip install gdown\n",
        "file_id = '1cGgHxY7Vxq6_tl5ly4nGkOTEKIOQTZTv'\n",
        "url = f'https://drive.google.com/uc?id={file_id}'\n",
        "destination = 'dataset.csv'\n",
        "gdown.download(url, destination, quiet=False)\n",
        "\n",
        "# Load the dataset\n",
        "df = pd.read_csv(destination)"
      ],
      "metadata": {
        "id": "TIcnj2di7-nX"
      },
      "execution_count": null,
      "outputs": []
    },
    {
      "cell_type": "markdown",
      "source": [
        "### Dataset First View"
      ],
      "metadata": {
        "id": "x71ZqKXriCWQ"
      }
    },
    {
      "cell_type": "code",
      "source": [
        "# Dataset First Look\n",
        "df.head()"
      ],
      "metadata": {
        "id": "LWNFOSvLl09H"
      },
      "execution_count": null,
      "outputs": []
    },
    {
      "cell_type": "markdown",
      "source": [
        "### Dataset Rows & Columns count"
      ],
      "metadata": {
        "id": "7hBIi_osiCS2"
      }
    },
    {
      "cell_type": "code",
      "source": [
        "# Dataset Rows & Columns count\n",
        "df.shape"
      ],
      "metadata": {
        "id": "Kllu7SJgmLij"
      },
      "execution_count": null,
      "outputs": []
    },
    {
      "cell_type": "markdown",
      "source": [
        "### Dataset Information"
      ],
      "metadata": {
        "id": "JlHwYmJAmNHm"
      }
    },
    {
      "cell_type": "code",
      "source": [
        "# Dataset Info\n",
        "df.info()   # To check null values, yes we have some null values here"
      ],
      "metadata": {
        "id": "e9hRXRi6meOf"
      },
      "execution_count": null,
      "outputs": []
    },
    {
      "cell_type": "markdown",
      "source": [
        "#### Duplicate Values"
      ],
      "metadata": {
        "id": "35m5QtbWiB9F"
      }
    },
    {
      "cell_type": "code",
      "source": [
        "# Dataset Duplicate Value Count\n",
        "df.duplicated().sum()   #no duplicate record observed"
      ],
      "metadata": {
        "id": "1sLdpKYkmox0"
      },
      "execution_count": null,
      "outputs": []
    },
    {
      "cell_type": "markdown",
      "source": [
        "#### Missing Values/Null Values"
      ],
      "metadata": {
        "id": "PoPl-ycgm1ru"
      }
    },
    {
      "cell_type": "code",
      "source": [
        "# Missing Values/Null Values Count\n",
        "df.isna().sum()"
      ],
      "metadata": {
        "id": "GgHWkxvamxVg"
      },
      "execution_count": null,
      "outputs": []
    },
    {
      "cell_type": "code",
      "source": [
        "# Visualizing the missing values\n",
        "sns.heatmap(df.isna())  #checking major null values"
      ],
      "metadata": {
        "id": "3q5wnI3om9sJ"
      },
      "execution_count": null,
      "outputs": []
    },
    {
      "cell_type": "markdown",
      "source": [
        "### What did you know about your dataset?"
      ],
      "metadata": {
        "id": "H0kj-8xxnORC"
      }
    },
    {
      "cell_type": "markdown",
      "source": [],
      "metadata": {
        "id": "t5lBODvhYOcg"
      }
    },
    {
      "cell_type": "markdown",
      "source": [
        "The dataset is about Airbnb hosts, it has all the necessary information about each host. This dataset has 48895 records with 16 columns for each record/row. Some hosts have multiple properties listed\n",
        "\n",
        "The data has no duplicate values, there are significant missing values that lie in reviews_per_month and last_review columns  followed by very less missing values in host_name and name columns. We will treat all of them before going for the analysis."
      ],
      "metadata": {
        "id": "gfoNAAC-nUe_"
      }
    },
    {
      "cell_type": "markdown",
      "source": [
        "## ***2. Understanding Your Variables***"
      ],
      "metadata": {
        "id": "nA9Y7ga8ng1Z"
      }
    },
    {
      "cell_type": "code",
      "source": [
        "# Dataset Columns\n",
        "df.columns"
      ],
      "metadata": {
        "id": "j7xfkqrt5Ag5"
      },
      "execution_count": null,
      "outputs": []
    },
    {
      "cell_type": "code",
      "source": [
        "# Dataset Describe\n",
        "df.describe()"
      ],
      "metadata": {
        "id": "DnOaZdaE5Q5t"
      },
      "execution_count": null,
      "outputs": []
    },
    {
      "cell_type": "markdown",
      "source": [
        "### Variables Description"
      ],
      "metadata": {
        "id": "PBTbrJXOngz2"
      }
    },
    {
      "cell_type": "markdown",
      "source": [
        "id', There are 16 unique variables in the dataset namely,\n",
        "\n",
        "'name', 'host_id', 'host_name', 'neighbourhood_group', 'neighbourhood', 'latitude', 'longitude', 'room_type', 'price', 'minimum_nights', 'number_of_reviews', 'last_review', 'reviews_per_month', 'calculated_host_listings_count', 'availability_365'.\n",
        "\n",
        "* Name is the name of the property\n",
        "* Host id is the unique id assigned by Airbnb to each property\n",
        "* Host name is the name of the property owner\n",
        "* Neighbourhood group is the group of locations combined together based on proximity to each other\n",
        "* Neighbourhood is the place name where the property is situated\n",
        "* Latitude and longitude are the geotaggings of each location\n",
        "* Room type is if the property has entire house for letout or a few rooms only\n",
        "* Price is the one night price of the property that tenants will pay\n",
        "* Minimum nights is the minimum number of nights guests need to stay in the property\n",
        "* Number of reviews are the total number of reviews receuived by the property till now\n",
        "* Last review is the date on which last review was received\n",
        "* Reviews per month is the average number of revoews received by the property\n",
        "* Calculated host listings count is the number of listings the host has made on the platform * availablity 365 looks like how times the property was availabe for leting out or in possession by the tenant\n",
        "\n",
        "\n",
        "Continous variables  = 'price', 'minimum_nights', 'number_of_reviews', 'last_review', 'reviews_per_month', 'calculated_host_listings_count', 'availability_365'.\n",
        "\n",
        "Categorical =  'host_name', 'neighbourhood_group', 'neighbourhood','room_type'\n",
        "\n",
        "\n",
        "\n"
      ],
      "metadata": {
        "id": "aJV4KIxSnxay"
      }
    },
    {
      "cell_type": "markdown",
      "source": [
        "### Check Unique Values for each variable."
      ],
      "metadata": {
        "id": "u3PMJOP6ngxN"
      }
    },
    {
      "cell_type": "code",
      "source": [
        "# Check Unique Values for each variable.\n",
        "df.nunique()"
      ],
      "metadata": {
        "id": "zms12Yq5n-jE"
      },
      "execution_count": null,
      "outputs": []
    },
    {
      "cell_type": "markdown",
      "source": [
        "## 3. ***Data Wrangling***"
      ],
      "metadata": {
        "id": "dauF4eBmngu3"
      }
    },
    {
      "cell_type": "markdown",
      "source": [
        "### Data Wrangling Code"
      ],
      "metadata": {
        "id": "bKJF3rekwFvQ"
      }
    },
    {
      "cell_type": "markdown",
      "source": [
        "Data Preprocessing"
      ],
      "metadata": {
        "id": "ig_iVhpK-DZl"
      }
    },
    {
      "cell_type": "code",
      "source": [
        "# Examining outliers in price column\n",
        "\n",
        "sns.boxplot(x=df['price'], whis=3)\n",
        "plt.title('Box Plot of Price before Outlier Removal')\n",
        "plt.xlabel('Price')\n",
        "plt.show()\n"
      ],
      "metadata": {
        "id": "LCeztzHgWALO"
      },
      "execution_count": null,
      "outputs": []
    },
    {
      "cell_type": "code",
      "source": [
        "#Lets remove the outliers first using IQR method\n",
        "\n",
        "def remove_outliers_iqr(df, column):\n",
        "    Q1 = df[column].quantile(0.25)\n",
        "    Q3 = df[column].quantile(0.75)\n",
        "    IQR = Q3 - Q1\n",
        "    lower_bound = Q1 - 1.5 * IQR\n",
        "    upper_bound = Q3 + 1.5 * IQR\n",
        "    # Filter the DataFrame in place\n",
        "    df = df[(df[column] >= lower_bound) & (df[column] <= upper_bound)]\n",
        "    return df\n",
        "\n",
        "df = remove_outliers_iqr(df, 'price')"
      ],
      "metadata": {
        "id": "Gj-pGqssXjHl"
      },
      "execution_count": null,
      "outputs": []
    },
    {
      "cell_type": "code",
      "source": [
        "# Examining outliers after outlier treartment in price column\n",
        "\n",
        "sns.boxplot(x=df['price'],whis =3)\n",
        "plt.title('Box Plot of Price after Outlier Removal')\n",
        "plt.xlabel('Price')\n",
        "plt.show()\n",
        "\n",
        "#Now it looks fine for the analysis"
      ],
      "metadata": {
        "id": "jSMX9UvLuL_3"
      },
      "execution_count": null,
      "outputs": []
    },
    {
      "cell_type": "code",
      "source": [
        "# Handling missing values\n",
        "\n",
        "# Since missing values are not much in number and in the analyis we are not going to use these columns\n",
        "#like continous variables for any calculation so we can safelty fill them with 'Unknown' or 'NA'\n",
        "\n",
        "# Filling name column missing values with 'Unknown'\n",
        "df = df.fillna({'name': 'Unknown'})\n",
        "\n",
        "# Filling host_name missing values with 'Unknown'\n",
        "df = df.fillna({'host_name': 'Unknown'})\n",
        "\n",
        "# Filling 'Last_review missing values with 'N/A'\n",
        "df = df.fillna({'last_review': 'N/A'})\n",
        "\n",
        "# Filling reviews_per_month missing values with 0, since all columns where reviews_per_month is not available,\n",
        "# last_review is also not available which signifies very high priobality that these properties have received no review till now\n",
        "df = df.fillna({'reviews_per_month': 0})"
      ],
      "metadata": {
        "id": "wk-9a2fpoLcV"
      },
      "execution_count": null,
      "outputs": []
    },
    {
      "cell_type": "code",
      "source": [
        "# Date day,month and year extraction operations\n",
        "df_datecleaned = df[df['last_review'] != 'N/A']\n",
        "df_datecleaned['last_review'] = pd.to_datetime(df_datecleaned['last_review'])\n",
        "df_datecleaned['day'] = df_datecleaned['last_review'].dt.day_name()\n",
        "df_datecleaned['month'] = df_datecleaned['last_review'].dt.month\n",
        "df_datecleaned['year'] = df_datecleaned['last_review'].dt.year"
      ],
      "metadata": {
        "id": "oonsAyttiPSd"
      },
      "execution_count": null,
      "outputs": []
    },
    {
      "cell_type": "code",
      "source": [
        "df.info()"
      ],
      "metadata": {
        "id": "98JvVStWPOdR"
      },
      "execution_count": null,
      "outputs": []
    },
    {
      "cell_type": "markdown",
      "source": [
        "Data Wrangling\n",
        "\n",
        "Objective - Understanding Customer Preferences and Market Dynamics:"
      ],
      "metadata": {
        "id": "Ylx-JvyGdDgw"
      }
    },
    {
      "cell_type": "code",
      "source": [
        "# Analyze the most preferred neighborhood group based on number of reviews and average price\n",
        "# This helps understand customer preferences for different locations and their price sensitivity,\n",
        "# which can inform targeted marketing strategies and personalized recommendations, aligning with the goal of enhancing the guest experience and increasing bookings.\n",
        "\n",
        "df.groupby(['neighbourhood_group']).agg({'number_of_reviews': 'sum', 'price': 'mean'})\n",
        "\n",
        "# Findings: Brooklyn is the most preferred, offering a balance of affordability and popularity.\n",
        "# Manhattan is the second most popular but also the most expensive. Staten Island is the least preferred."
      ],
      "metadata": {
        "id": "9BpqKhc2iNfB"
      },
      "execution_count": null,
      "outputs": []
    },
    {
      "cell_type": "code",
      "source": [
        "# Analyze average price across room types and neighborhood groups\n",
        "# This helps understand how both location and accommodation type influence pricing,\n",
        "# which can inform targeted marketing and personalized recommendations based on\n",
        "# guest budget and preferences.\n",
        "\n",
        "\n",
        "df.groupby(['neighbourhood_group', 'room_type'])['price'].mean()\n",
        "\n",
        "# Findings: Homestay prices in Manhattan are the most expensive across all room types.\n",
        "# The Bronx is the cheapest for Entire home/apt and Private room categories.\n",
        "# Queens is the cheapest for the Shared room category"
      ],
      "metadata": {
        "id": "mZtU43AsLxxl"
      },
      "execution_count": null,
      "outputs": []
    },
    {
      "cell_type": "code",
      "source": [
        "# Analyze the relationship between room type and minimum nights\n",
        "# This helps understand guest preferences for different lengths of stay across\n",
        "# various accommodation types, which can inform recommendations and potentially influence pricing strategies.\n",
        "\n",
        "df.groupby(['room_type'])['minimum_nights'].mean()\n",
        "\n",
        "# Findings: The assumption that higher-priced room types have higher minimum nights is not entirely accurate.\n",
        "# Shared rooms, despite being the cheapest, have a higher average minimum night stay compared to private rooms"
      ],
      "metadata": {
        "id": "pzqdvcIMZgDd"
      },
      "execution_count": null,
      "outputs": []
    },
    {
      "cell_type": "code",
      "source": [
        "# Identify the most popular individual homestays based on the number of reviews\n",
        "# This helps understand which specific listings are resonating with guests,\n",
        "# providing insights for promoting successful listings and potentially identifying\n",
        "# factors that contribute to high guest satisfaction and engagement.\n",
        "\n",
        "popular3 = df.groupby(['id'])['number_of_reviews'].sum().sort_values(ascending=False).head(3).reset_index()\n",
        "popular3_details = popular3.merge(df,how='left',on='id')\n",
        "popular3_details[['name','id','number_of_reviews_y','neighbourhood_group','price','host_name']]\n",
        "\n",
        "\n",
        "# Findings: The top 3 most popular listings are:\n",
        "\n",
        "# Room near JFK Queen Bed is the most popular listing with 629 reviews\n",
        "# It is located in Queens and is hosted by Dona, with a price of 47\n",
        "\n",
        "\n",
        "# Second Most Popular Listing:\n",
        "# Great Bedroom in Manhattan is the second most popular listing with 607 reviews.\n",
        "# It is located in Manhattan and is hosted by Jj, with a price of 49.\n",
        "\n",
        "\n",
        "# Third Most Popular Listing:\n",
        "# Beautiful Bedroom in Manhattan is the third most popular listing with 597 reviews.\n",
        "# It is also located in Manhattan and is hosted by Jj, with a price of 49.\n"
      ],
      "metadata": {
        "id": "ArjE18NUh2Ef"
      },
      "execution_count": null,
      "outputs": []
    },
    {
      "cell_type": "markdown",
      "source": [
        "Data Wrangling\n",
        "\n",
        "Objective - Identifying Growth Opportunities:"
      ],
      "metadata": {
        "id": "wdABz_lqfBWt"
      }
    },
    {
      "cell_type": "code",
      "source": [
        "# Identify potential growing neighborhoods with fewer than 100 listings\n",
        "# This helps pinpoint areas with emerging demand and potential for market expansion,\n",
        "# aligning with the business objective of expanding market reach and tapping into new growth opportunities.\n",
        "\n",
        "df['neighbourhood'].value_counts()[df['neighbourhood'].value_counts() < 100].reset_index().head(20)\n",
        "\n",
        "# Findings: Neighborhoods like Richmond Hill, Woodhaven, and Cobble Hill, among others, have a\n",
        "# relatively low number of listings, suggesting they might be emerging areas with growth potential."
      ],
      "metadata": {
        "id": "7SJhRe8p7Z3y"
      },
      "execution_count": null,
      "outputs": []
    },
    {
      "cell_type": "code",
      "source": [
        "#Identify the top 10 areas where Airbnb is most popular in New York\n",
        "# This helps pinpoint areas with high demand and guest engagement,\n",
        "# which can inform targeted marketing and potentially identify areas for expansion or strategic partnerships\n",
        "\n",
        "df['neighbourhood'].value_counts().sort_values(ascending=False).head(10).reset_index()\n",
        "\n",
        "# Findings: Williamsburg, Bedford-Stuyvesant, and Harlem have the most listings,\n",
        "# indicating a strong Airbnb presence in these neighborhoods"
      ],
      "metadata": {
        "id": "6bQi6uFrz4Lu"
      },
      "execution_count": null,
      "outputs": []
    },
    {
      "cell_type": "code",
      "source": [
        "# Analyze year-on-year growth in the number of listings to identify periods of rapid expansion\n",
        "# This helps understand historical growth trends and can inform future growth strategies and market projections,\n",
        "# aligning with the business objective of expanding market reach and increasing bookings\n",
        "\n",
        "df_datecleaned.groupby(['year'])['neighbourhood'].count().pct_change()*100\n",
        "\n",
        "# Findings: Airbnb experienced the highest year-on-year growth in 2015"
      ],
      "metadata": {
        "id": "3Q3uY_iw0xjc"
      },
      "execution_count": null,
      "outputs": []
    },
    {
      "cell_type": "code",
      "source": [
        "# Analyze year-on-year growth in the number of reviews to gauge customer engagement trends over time.\n",
        "# This can help identify periods of increased guest interaction and satisfaction, potentially\n",
        "# informing marketing strategies and platform improvements aimed at enhancing the guest experience\n",
        "\n",
        "df_datecleaned.groupby(['year'])['number_of_reviews'].sum().pct_change()*100\n",
        "\n",
        "# Findings: There was a massive growth in the percentage of reviews in 2019,\n",
        "# indicating a significant increase in customer engagement"
      ],
      "metadata": {
        "id": "Islix5eUwmFd"
      },
      "execution_count": null,
      "outputs": []
    },
    {
      "cell_type": "markdown",
      "source": [
        "Data Wrangling\n",
        "\n",
        "Objective - Empowering Hosts and Optimizing the Host Experience"
      ],
      "metadata": {
        "id": "AxFX_QjXgNFF"
      }
    },
    {
      "cell_type": "code",
      "source": [
        "# Identify the most active hosts based on the total number of reviews received\n",
        "# This helps understand which hosts are successful in attracting and engaging guests,\n",
        "# providing insights for recognizing and potentially promoting high-performing hosts,\n",
        "# aligning with the goal of empowering hosts and enhancing the overall guest experience\n",
        "\n",
        "\n",
        "host_id_groupby = df.groupby('host_id')['number_of_reviews'].sum().sort_values(ascending=False).reset_index()\n",
        "top_10_hosts = host_id_groupby.head(5)\n",
        "busiest_hosts_details = pd.merge(top_10_hosts, df[['host_id', 'host_name']].drop_duplicates(), on='host_id', how='left')\n",
        "top_10_hosts_with_names = busiest_hosts_details[['host_id', 'host_name']].drop_duplicates()\n",
        "top_10_hosts_with_names\n",
        "\n",
        "# Findings: Maya, Brooklyn& Breakfast -Len-, Danielle, Yasu & Akiko, and Brady are the top 5 most active hosts"
      ],
      "metadata": {
        "id": "O8pPVapT7JAm"
      },
      "execution_count": null,
      "outputs": []
    },
    {
      "cell_type": "code",
      "source": [
        "# Identify properties with zero reviews, potentially indicating the need for evaluation or support\n",
        "# This helps pinpoint listings that might require additional attention,\n",
        "# such as host training, or improved guest engagement strategies, promotional efforts,\n",
        "\n",
        "df['name'][df['number_of_reviews'] == 0].reset_index()\n",
        "# Findings: There are 9012 properties across New York with zero reviews that need evaluation"
      ],
      "metadata": {
        "id": "T5Yci2t8NwG-"
      },
      "execution_count": null,
      "outputs": []
    },
    {
      "cell_type": "code",
      "source": [
        "# Identify most number of properties listed by which person\n",
        "# and the count of those properties neighbourhood group wise and room type wise\n",
        "\n",
        "max_listing_host = df['host_id'].value_counts().idxmax()\n",
        "max_lisiting_host_details = df[df['host_id'] == max_listing_host]\n",
        "\n",
        "max_lisiting_host_details\n",
        "# Neighbourhood_groups of person with most listing\n",
        "max_lisiting_host_details['neighbourhood_group'].value_counts()\n",
        "\n",
        "# Room_type of person with most listing\n",
        "max_lisiting_host_details['room_type'].value_counts()\n",
        "\n",
        "# Host ID with ID 219517861 has listed the most properties\n",
        "# The name of host is Sonder (NYC)\n",
        "# The neighbourhood group of all properties listed by Sonder is Manhattan\n",
        "# Sonder has listed 261 Entire home/apt and 6 Private rooms\n",
        "\n",
        "# analysis provides some insight into the host landscape, specifically highlighting a major player (Sonder) in the Manhattan market\n",
        "# It indirectly touches upon the objective of empowering hosts by showcasing a potentially successful host"
      ],
      "metadata": {
        "id": "v5JHCm-EOf6o"
      },
      "execution_count": null,
      "outputs": []
    },
    {
      "cell_type": "markdown",
      "source": [
        "Data Wrangling\n",
        "\n",
        "Objective - Pricing Strategies and Market Insights:"
      ],
      "metadata": {
        "id": "l-sPgtGataZb"
      }
    },
    {
      "cell_type": "code",
      "source": [
        "# Analyze the relationship between room type and price\n",
        "# This helps understand how accommodation type influences pricing, which is crucial for\n",
        "# setting guest expectations and can inform targeted marketing and recommendations based on\n",
        "# budget and preferences\n",
        "\n",
        "df.groupby(['room_type'])['price'].mean()\n",
        "\n",
        "# Findings: Room type is a significant factor influencing price per night\n",
        "# Findings: Room type is a significant factor influencing price per night, with entire homes/apartments being the most expensive and shared rooms the cheapest"
      ],
      "metadata": {
        "id": "OVyNO1BMdL9i"
      },
      "execution_count": null,
      "outputs": []
    },
    {
      "cell_type": "code",
      "source": [
        "# Analyze the relationship between neighborhood group and price\n",
        "# This helps understand the impact of location on pricing, which is crucial for setting\n",
        "# expectations for both guests and hosts and can inform targeted marketing strategies.\n",
        "\n",
        "df.groupby(['neighbourhood_group'])['price'].mean()\n",
        "# Findings: Neighborhood group is a major determinant of price, irrespective of room type"
      ],
      "metadata": {
        "id": "PPCKP0iXwKvD"
      },
      "execution_count": null,
      "outputs": []
    },
    {
      "cell_type": "code",
      "source": [
        "# Analyze the average availability of properties across different room types\n",
        "# This helps understand booking patterns and demand for various accommodation types,\n",
        "# which can inform inventory management and pricing strategies to optimize occupancy rates\n",
        "\n",
        "df.groupby(['room_type'])['availability_365'].mean().sort_values(ascending = False).reset_index()\n",
        "\n",
        "# Findings: Shared rooms have the highest average availability (163 days),\n",
        "# followed by Private rooms (110 days), and then Entire home/apt"
      ],
      "metadata": {
        "id": "fAgPWVqCiO0B"
      },
      "execution_count": null,
      "outputs": []
    },
    {
      "cell_type": "markdown",
      "source": [
        "### What all manipulations have you done and insights you found?"
      ],
      "metadata": {
        "id": "MSa1f5Uengrz"
      }
    },
    {
      "cell_type": "markdown",
      "source": [
        "Disscussed all data wrangling manipulations objective wise, in sections above."
      ],
      "metadata": {
        "id": "LbyXE7I1olp8"
      }
    },
    {
      "cell_type": "markdown",
      "source": [
        "## ***4. Data Vizualization, Storytelling & Experimenting with charts : Understand the relationships between variables***"
      ],
      "metadata": {
        "id": "GF8Ens_Soomf"
      }
    },
    {
      "cell_type": "markdown",
      "source": [
        "## Understanding Customer Preferences and Market Dynamics\n",
        "\n",
        "<hr>\n"
      ],
      "metadata": {
        "id": "j_m12jfbqAGW"
      }
    },
    {
      "cell_type": "markdown",
      "source": [
        "#### Visualize the distribution of room types"
      ],
      "metadata": {
        "id": "QF4ysc4oJsRC"
      }
    },
    {
      "cell_type": "code",
      "source": [
        "# To understand the prevalence of different accommodation types on the platform.\n",
        "# This informs marketing strategies, inventory management, and recommendations,\n",
        "# contributing to the business objective of enhancing the guest experience and increasing bookings.\n",
        "\n",
        "dist_room_type = df.groupby('room_type')['room_type'].count()\n",
        "plt.pie(dist_room_type, labels=dist_room_type.index, autopct='%1.1f%%', startangle=140)\n",
        "plt.axis('equal')\n",
        "plt.title('Distribution of room types')\n",
        "plt.show()"
      ],
      "metadata": {
        "id": "SSCgv0h_JsRM"
      },
      "execution_count": null,
      "outputs": []
    },
    {
      "cell_type": "markdown",
      "source": [
        "##### 1. Why did you pick the specific chart?"
      ],
      "metadata": {
        "id": "FqxFyUu6JsRM"
      }
    },
    {
      "cell_type": "markdown",
      "source": [
        "A pie chart is suitable for showcasing the relative proportions of different categories within a whole. In this case, it effectively visualizes the distribution of room types among all Airbnb listings."
      ],
      "metadata": {
        "id": "lOty61qvJsRM"
      }
    },
    {
      "cell_type": "markdown",
      "source": [
        "##### 2. What is/are the insight(s) found from the chart?"
      ],
      "metadata": {
        "id": "Qlzb8ZiVJsRM"
      }
    },
    {
      "cell_type": "markdown",
      "source": [
        "Nearly 50% of the listed room types are Entire home/apt, followed by 48% Private room, and a small fraction (2.5%) of Shared room.\n",
        "This indicates a strong preference for entire homes/apartments, suggesting a potential market opportunity for hosts offering this type of accommodation"
      ],
      "metadata": {
        "id": "UemDh2LsJsRM"
      }
    },
    {
      "cell_type": "markdown",
      "source": [
        "##### 3. Will the gained insights help creating a positive business impact?\n",
        "Are there any insights that lead to negative growth? Justify with specific reason."
      ],
      "metadata": {
        "id": "SxtGSho6JsRN"
      }
    },
    {
      "cell_type": "markdown",
      "source": [
        "\n",
        "Yes, these insights can contribute to a positive business impact by:\n",
        "Informing marketing strategies: Highlighting the popularity of entire homes/apartments to attract guests seeking privacy and space.\n",
        "\n",
        "Guiding inventory management: Encouraging hosts to consider listing entire homes/apartments to meet the high demand.\n",
        "\n",
        "Improving recommendations: Prioritizing entire homes/apartments in search results and suggestions for guests.\n",
        "\n",
        "Segmentation: Targeting marketing efforts towards different customer segments based on their preferred room types (e.g., independent travelers vs. social travelers).\n",
        "\n",
        "There are no direct insights that lead to negative growth in this chart. However, the low prevalence of shared rooms suggests limited demand for this type of accommodation, which Airbnb could consider when expanding its offerings or targeting specific customer segments."
      ],
      "metadata": {
        "id": "QSubttqvJsRN"
      }
    },
    {
      "cell_type": "markdown",
      "source": [
        "#### Visualize the distribution of prices using a violin plot"
      ],
      "metadata": {
        "id": "97ktiProJtWX"
      }
    },
    {
      "cell_type": "code",
      "source": [
        "# Helps understand the overall price range and distribution of Airbnb listings in NYC, informing pricing strategies & marketing\n",
        "\n",
        "sns.violinplot(x=df['price'])\n",
        "plt.xlabel('Price (USD)')\n",
        "plt.title('Violin Plot of Prices')\n",
        "plt.show()"
      ],
      "metadata": {
        "id": "EylTsy_TJtWg"
      },
      "execution_count": null,
      "outputs": []
    },
    {
      "cell_type": "markdown",
      "source": [
        "##### 1. Why did you pick the specific chart?"
      ],
      "metadata": {
        "id": "NbQKLSewJtWh"
      }
    },
    {
      "cell_type": "markdown",
      "source": [
        "Violin plot shows distribution shape, central tendency, and data density at different price levels\n",
        "\n"
      ],
      "metadata": {
        "id": "-u2OowSuJtWh"
      }
    },
    {
      "cell_type": "markdown",
      "source": [
        "##### 2. What is/are the insight(s) found from the chart?"
      ],
      "metadata": {
        "id": "u34lS6nmJtWh"
      }
    },
    {
      "cell_type": "markdown",
      "source": [
        "Most listings are in the lower price range, with the highest density between 50-100 USD.\n",
        "\n",
        "The distribution is right-skewed, indicating some high-priced listings."
      ],
      "metadata": {
        "id": "gJvo_htQJtWh"
      }
    },
    {
      "cell_type": "markdown",
      "source": [
        "##### 3. Will the gained insights help creating a positive business impact?\n",
        "Are there any insights that lead to negative growth? Justify with specific reason."
      ],
      "metadata": {
        "id": "w2xnC4bLJtWi"
      }
    },
    {
      "cell_type": "markdown",
      "source": [
        "Informs competitive pricing strategies for Airbnb and hosts\n",
        "\n",
        "Guides marketing focus towards the most popular price range\n",
        "\n",
        "Identifies potential for luxury offerings"
      ],
      "metadata": {
        "id": "zdrnpZdCJtWi"
      }
    },
    {
      "cell_type": "markdown",
      "source": [
        "#### Visualize the most reviewed neighborhoods"
      ],
      "metadata": {
        "id": "BZR9WyysphqO"
      }
    },
    {
      "cell_type": "code",
      "source": [
        "\n",
        "# Identify popular areas based on guest reviews, providing insights for targeted marketing and potential expansion.\n",
        "# Aligns with understanding customer preferences & increasing bookings\n",
        "\n",
        "mrn = df.groupby(['neighbourhood', 'neighbourhood_group'])['number_of_reviews'].sum().sort_values(ascending=False).head(10).reset_index()\n",
        "sns.barplot(data=mrn, x='neighbourhood', y='number_of_reviews', hue='neighbourhood_group')\n",
        "plt.xticks(rotation=45)\n",
        "plt.show()"
      ],
      "metadata": {
        "id": "TdPTWpAVphqO"
      },
      "execution_count": null,
      "outputs": []
    },
    {
      "cell_type": "markdown",
      "source": [
        "##### 1. Why did you pick the specific chart?"
      ],
      "metadata": {
        "id": "jj7wYXLtphqO"
      }
    },
    {
      "cell_type": "markdown",
      "source": [
        "Bar chart for easy comparison of review counts across neighborhoods, with color-coding for neighborhood groups"
      ],
      "metadata": {
        "id": "Ob8u6rCTphqO"
      }
    },
    {
      "cell_type": "markdown",
      "source": [
        "##### 2. What is/are the insight(s) found from the chart?"
      ],
      "metadata": {
        "id": "eZrbJ2SmphqO"
      }
    },
    {
      "cell_type": "markdown",
      "source": [
        "Top reviewed neighborhoods are in Brooklyn (Bedford-Stuyvesant, Williamsburg) and Manhattan (Harlem)\n",
        "\n",
        "High review counts suggest strong guest engagement and satisfaction in these areas"
      ],
      "metadata": {
        "id": "mZtgC_hjphqO"
      }
    },
    {
      "cell_type": "markdown",
      "source": [
        "##### 3. Will the gained insights help creating a positive business impact?\n",
        "Are there any insights that lead to negative growth? Justify with specific reason."
      ],
      "metadata": {
        "id": "rFu4xreNphqO"
      }
    },
    {
      "cell_type": "markdown",
      "source": [
        "Focus marketing efforts on popular neighborhoods, leverage positive reviews for promotion, identify successful host practices in these areas\n"
      ],
      "metadata": {
        "id": "ey_0qi68phqO"
      }
    },
    {
      "cell_type": "markdown",
      "source": [
        "#### Visualize the busiest days based on the number of reviews"
      ],
      "metadata": {
        "id": "U2RJ9gkRphqQ"
      }
    },
    {
      "cell_type": "code",
      "source": [
        "# Helps understand guest booking and reviewing patterns, which can inform marketing and operational strategies.\n",
        "\n",
        "daywise_reviewcount = df_datecleaned.groupby(['day'])['last_review'].count().sort_values(ascending=False).reset_index()\n",
        "sns.barplot(data = daywise_reviewcount , x = 'day', y = 'last_review')\n",
        "plt.title('Daywise Review Count')\n",
        "plt.ylabel('Count of reviews')\n",
        "plt.xlabel('Days')\n",
        "plt.show()\n"
      ],
      "metadata": {
        "id": "GM7a4YP4phqQ"
      },
      "execution_count": null,
      "outputs": []
    },
    {
      "cell_type": "markdown",
      "source": [
        "##### 1. Why did you pick the specific chart?"
      ],
      "metadata": {
        "id": "1M8mcRywphqQ"
      }
    },
    {
      "cell_type": "markdown",
      "source": [
        "Bar chart for clear comparison of review counts across different days of the week.\n"
      ],
      "metadata": {
        "id": "8agQvks0phqQ"
      }
    },
    {
      "cell_type": "markdown",
      "source": [
        "##### 2. What is/are the insight(s) found from the chart?"
      ],
      "metadata": {
        "id": "tgIPom80phqQ"
      }
    },
    {
      "cell_type": "markdown",
      "source": [
        "Sunday is the busiest day, followed by Monday and Saturday.\n",
        "\n",
        "This suggests that guests tend to book and/or leave reviews more frequently on weekends and at the start of the week.\n"
      ],
      "metadata": {
        "id": "Qp13pnNzphqQ"
      }
    },
    {
      "cell_type": "markdown",
      "source": [
        "##### 3. Will the gained insights help creating a positive business impact?\n",
        "Are there any insights that lead to negative growth? Justify with specific reason."
      ],
      "metadata": {
        "id": "JMzcOPDDphqR"
      }
    },
    {
      "cell_type": "markdown",
      "source": [
        "Optimize marketing campaigns and promotions for peak booking/review days.\n",
        "\n",
        "Allocate resources and staffing accordingly to handle increased activity on busy days."
      ],
      "metadata": {
        "id": "R4Ka1PC2phqR"
      }
    },
    {
      "cell_type": "markdown",
      "source": [
        "#### Visualize the trend of reviews over time"
      ],
      "metadata": {
        "id": "x-EpHcCOp1ci"
      }
    },
    {
      "cell_type": "code",
      "source": [
        "# Helps understand customer engagement and growth in platform usage\n",
        "\n",
        "reviews_trend = df_datecleaned.groupby(['year'])['number_of_reviews'].sum()\n",
        "sns.lineplot(data =reviews_trend)\n",
        "plt.title('Trend of Reviews Over Time')\n",
        "plt.xlabel('Date')\n",
        "plt.ylabel('Number of Reviews')\n",
        "plt.show()"
      ],
      "metadata": {
        "id": "mAQTIvtqp1cj"
      },
      "execution_count": null,
      "outputs": []
    },
    {
      "cell_type": "markdown",
      "source": [
        "##### 1. Why did you pick the specific chart?"
      ],
      "metadata": {
        "id": "X_VqEhTip1ck"
      }
    },
    {
      "cell_type": "markdown",
      "source": [
        "Line chart to effectively visualize the trend of reviews over multiple years\n"
      ],
      "metadata": {
        "id": "-vsMzt_np1ck"
      }
    },
    {
      "cell_type": "markdown",
      "source": [
        "##### 2. What is/are the insight(s) found from the chart?"
      ],
      "metadata": {
        "id": "8zGJKyg5p1ck"
      }
    },
    {
      "cell_type": "markdown",
      "source": [
        "Steady growth in reviews from 2015 to 2017\n",
        "\n",
        "Significant increase from 2017 to 2018\n",
        "\n",
        "Exponential growth in 2019, indicating a surge in customer engagement"
      ],
      "metadata": {
        "id": "ZYdMsrqVp1ck"
      }
    },
    {
      "cell_type": "markdown",
      "source": [
        "##### 3. Will the gained insights help creating a positive business impact?\n",
        "Are there any insights that lead to negative growth? Justify with specific reason."
      ],
      "metadata": {
        "id": "PVzmfK_Ep1ck"
      }
    },
    {
      "cell_type": "markdown",
      "source": [
        "Highlights positive trend in customer engagement and platform adoption\n",
        "\n",
        "Can inform marketing strategies to capitalize on growing interest\n",
        "\n",
        "Provides evidence of successful growth and potential for future expansion"
      ],
      "metadata": {
        "id": "druuKYZpp1ck"
      }
    },
    {
      "cell_type": "markdown",
      "source": [
        "## Identifying Growth Opportunities:\n",
        "\n",
        "<hr>"
      ],
      "metadata": {
        "id": "n4O0wwChqLmg"
      }
    },
    {
      "cell_type": "markdown",
      "source": [
        "#### Visualize the number of properties listed by neighborhood group"
      ],
      "metadata": {
        "id": "EM7whBJCYoAo"
      }
    },
    {
      "cell_type": "code",
      "source": [
        "\n",
        "# To understand the distribution of listings across different areas.\n",
        "# This can inform targeted marketing efforts and identify potential areas for expansion,\n",
        "# aligning with the business objectives of expanding market reach and increasing bookings.\n",
        "\n",
        "\n",
        "plt.figure(figsize=(10,5))\n",
        "prop_by_ng = df['neighbourhood_group'].value_counts()\n",
        "sns.barplot(x=prop_by_ng.index, y=prop_by_ng.values)\n",
        "plt.title('Number of properties listed by neighbourhood group')\n",
        "plt.xlabel('Neighbourhood group')\n",
        "plt.ylabel('Count')\n",
        "plt.xticks(rotation=45)\n",
        "plt.show()"
      ],
      "metadata": {
        "id": "t6GMdE67YoAp"
      },
      "execution_count": null,
      "outputs": []
    },
    {
      "cell_type": "markdown",
      "source": [
        "##### 1. Why did you pick the specific chart?"
      ],
      "metadata": {
        "id": "fge-S5ZAYoAp"
      }
    },
    {
      "cell_type": "markdown",
      "source": [
        "A bar chart is chosen because it effectively displays the comparison of counts across different categories (neighborhood groups)"
      ],
      "metadata": {
        "id": "5dBItgRVYoAp"
      }
    },
    {
      "cell_type": "markdown",
      "source": [
        "##### 2. What is/are the insight(s) found from the chart?"
      ],
      "metadata": {
        "id": "85gYPyotYoAp"
      }
    },
    {
      "cell_type": "markdown",
      "source": [
        "Manhattan and Brooklyn have a similar number of listings, followed by Queens,\n",
        "indicating these areas are key markets for Airbnb"
      ],
      "metadata": {
        "id": "4jstXR6OYoAp"
      }
    },
    {
      "cell_type": "markdown",
      "source": [
        "##### 3. Will the gained insights help creating a positive business impact?\n",
        "Are there any insights that lead to negative growth? Justify with specific reason."
      ],
      "metadata": {
        "id": "RoGjAbkUYoAp"
      }
    },
    {
      "cell_type": "markdown",
      "source": [
        "Yes, these insights can help create a positive business impact by:\n",
        "Guiding targeted marketing efforts towards areas with high listing density\n",
        "(Manhattan, Brooklyn) to further increase bookings.\n",
        "Identifying potential areas for expansion (Queens and other neighborhoods with lower listings) to tap into new markets and increase market share. There are no direct insights that lead to negative growth in this chart"
      ],
      "metadata": {
        "id": "zfJ8IqMcYoAp"
      }
    },
    {
      "cell_type": "markdown",
      "source": [
        "#### Visualize property spread across New York City using latitude and longitude."
      ],
      "metadata": {
        "id": "YJ55k-q6phqO"
      }
    },
    {
      "cell_type": "code",
      "source": [
        "# Helps understand the geographical distribution of listings, informing marketing and potential expansion strategies.\n",
        "\n",
        "plt.figure(figsize=(15, 9))\n",
        "sns.scatterplot(x='longitude', y='latitude', data = df, hue ='neighbourhood_group')\n",
        "plt.title('Location wise property scatter plot in New York City')\n",
        "plt.xlabel('Longitude')\n",
        "plt.ylabel('Latitude')\n",
        "plt.show()"
      ],
      "metadata": {
        "id": "0Pzfozm0FYB7"
      },
      "execution_count": null,
      "outputs": []
    },
    {
      "cell_type": "markdown",
      "source": [
        "##### 1. Why did you pick the specific chart?"
      ],
      "metadata": {
        "id": "gCFgpxoyphqP"
      }
    },
    {
      "cell_type": "markdown",
      "source": [
        "Scatterplot to map listings geographically, color-coded by neighborhood group for clear differentiation.\n"
      ],
      "metadata": {
        "id": "TVxDimi2phqP"
      }
    },
    {
      "cell_type": "markdown",
      "source": [
        "##### 2. What is/are the insight(s) found from the chart?"
      ],
      "metadata": {
        "id": "OVtJsKN_phqQ"
      }
    },
    {
      "cell_type": "markdown",
      "source": [
        "High density of listings in Brooklyn and Manhattan, indicating concentrated Airbnb activity\n",
        "\n",
        "Queens, despite having the third-highest number of listings (as seen in the \"Number of properties listed by neighborhood group\" analysis), shows a less dense spread compared to Brooklyn and Manhattan. This might indicate a greater diversity of neighborhoods within Queens offering Airbnb accommodations.\n"
      ],
      "metadata": {
        "id": "ngGi97qjphqQ"
      }
    },
    {
      "cell_type": "markdown",
      "source": [
        "##### 3. Will the gained insights help creating a positive business impact?\n",
        "Are there any insights that lead to negative growth? Justify with specific reason."
      ],
      "metadata": {
        "id": "lssrdh5qphqQ"
      }
    },
    {
      "cell_type": "markdown",
      "source": [
        "Target marketing efforts in dense areas (Brooklyn, Manhattan) for increased visibility\n",
        "\n",
        "Explore opportunities to promote listings in less dense areas of Queens to attract guests seeking a wider variety of neighborhoods or unique experiences"
      ],
      "metadata": {
        "id": "tBpY5ekJphqQ"
      }
    },
    {
      "cell_type": "markdown",
      "source": [
        "#### Visualize the yearly trend of Airbnb growth in New York based on the number of listings\n"
      ],
      "metadata": {
        "id": "2tZ8p513elQe"
      }
    },
    {
      "cell_type": "code",
      "source": [
        "# Understand the historical growth trajectory of Airbnb in NYC, informing future growth strategies and market projections\n",
        "\n",
        "airbnbgrowth = df_datecleaned.groupby(['year'])['neighbourhood'].count()\n",
        "sns.lineplot(data =airbnbgrowth)\n",
        "plt.title(\"Yearly trend of Airbnb growth in New York\")\n",
        "plt.ylabel('Number of Listings')\n",
        "plt.xlabel('Years')\n",
        "plt.show()"
      ],
      "metadata": {
        "id": "OyKLonAOelQp"
      },
      "execution_count": null,
      "outputs": []
    },
    {
      "cell_type": "markdown",
      "source": [
        "##### 1. Why did you pick the specific chart?"
      ],
      "metadata": {
        "id": "kMdYngzQelQp"
      }
    },
    {
      "cell_type": "markdown",
      "source": [
        "Line chart to effectively visualize the trend of Airbnb growth over multiple years\n"
      ],
      "metadata": {
        "id": "ghH4qRYrelQp"
      }
    },
    {
      "cell_type": "markdown",
      "source": [
        "##### 2. What is/are the insight(s) found from the chart?"
      ],
      "metadata": {
        "id": "TdTfrjTCelQp"
      }
    },
    {
      "cell_type": "markdown",
      "source": [
        "Significant increase in listings from 2015 onwards.\n",
        "\n",
        "Exponential growth in 2018 and 2019, indicating rapid expansion in recent years"
      ],
      "metadata": {
        "id": "sRz4GsWTelQp"
      }
    },
    {
      "cell_type": "markdown",
      "source": [
        "##### 3. Will the gained insights help creating a positive business impact?\n",
        "Are there any insights that lead to negative growth? Justify with specific reason."
      ],
      "metadata": {
        "id": "tqWDWOb3elQp"
      }
    },
    {
      "cell_type": "markdown",
      "source": [
        "Positive:\n",
        "- Highlights the platform's success and potential for future growth\n",
        "\n",
        "- Can inform investment decisions and resource allocation for continued expansion\n",
        "\n",
        "- Provides evidence of increasing market penetration and brand recognition\n",
        "\n",
        "Negative:\n",
        "- Rapid growth could lead to increased competition among hosts and potentially impact pricing and occupancy rates\n"
      ],
      "metadata": {
        "id": "MYdNwRJRelQp"
      }
    },
    {
      "cell_type": "markdown",
      "source": [
        "## Empowering Hosts and Optimizing the Host Experience\n",
        "<hr>\n"
      ],
      "metadata": {
        "id": "8WlYcdDcqkTE"
      }
    },
    {
      "cell_type": "markdown",
      "source": [
        "#### Visualize the most reviewed neighborhood group"
      ],
      "metadata": {
        "id": "PIIx-8_IphqN"
      }
    },
    {
      "cell_type": "code",
      "source": [
        "# Identify popular areas based on guest reviews. This informs marketing strategies and potential expansion,\n",
        "# aligning with understanding customer preferences and increasing bookings\n",
        "\n",
        "most_reviewed_nbg = df.groupby(['neighbourhood_group'])['number_of_reviews'].sum().sort_values(ascending = False)\n",
        "\n",
        "sns.barplot(data = most_reviewed_nbg)\n",
        "plt.title('Most reviewed neighbourhood group')\n",
        "plt.xlabel('Neighbourhood Group')\n",
        "plt.ylabel('Number of Reviews')\n",
        "plt.xticks(rotation=45)\n",
        "plt.show()"
      ],
      "metadata": {
        "id": "lqAIGUfyphqO"
      },
      "execution_count": null,
      "outputs": []
    },
    {
      "cell_type": "markdown",
      "source": [],
      "metadata": {
        "id": "y1vtFuFGEVhE"
      }
    },
    {
      "cell_type": "markdown",
      "source": [
        "##### 1. Why did you pick the specific chart?"
      ],
      "metadata": {
        "id": "t27r6nlMphqO"
      }
    },
    {
      "cell_type": "markdown",
      "source": [
        "A bar chart is suitable for comparing the total number of reviews across different neighborhood groups,allowing for quick identification of the most reviewed areas"
      ],
      "metadata": {
        "id": "iv6ro40sphqO"
      }
    },
    {
      "cell_type": "markdown",
      "source": [
        "##### 2. What is/are the insight(s) found from the chart?"
      ],
      "metadata": {
        "id": "r2jJGEOYphqO"
      }
    },
    {
      "cell_type": "markdown",
      "source": [
        "Brooklyn leads in reviews, followed by Manhattan and Queens, indicating high guest engagement in these areas\n"
      ],
      "metadata": {
        "id": "Po6ZPi4hphqO"
      }
    },
    {
      "cell_type": "markdown",
      "source": [
        "Focus marketing efforts on popular areas like Brooklyn. Identify areas with lower reviews for potential improvement.\n"
      ],
      "metadata": {
        "id": "b0JNsNcRphqO"
      }
    },
    {
      "cell_type": "markdown",
      "source": [
        "#### Visualize the relationship between number of reviews and price"
      ],
      "metadata": {
        "id": "OUBemzRO2tKO"
      }
    },
    {
      "cell_type": "code",
      "source": [
        "# Investigate if review count influences pricing\n",
        "\n",
        "plt.scatter(df['number_of_reviews'], df['price'])\n",
        "plt.xlabel('Number of Reviews')\n",
        "plt.ylabel('Price')\n",
        "plt.title('Relationship between Number of Reviews and Price')\n",
        "plt.show()"
      ],
      "metadata": {
        "id": "qP1eDtm72tKe"
      },
      "execution_count": null,
      "outputs": []
    },
    {
      "cell_type": "markdown",
      "source": [
        "##### 1. Why did you pick the specific chart?"
      ],
      "metadata": {
        "id": "eE1-h_272tKf"
      }
    },
    {
      "cell_type": "markdown",
      "source": [
        "Scatter plot to visualize relationship between two numerical variables\n"
      ],
      "metadata": {
        "id": "4oKfDyvd2tKf"
      }
    },
    {
      "cell_type": "markdown",
      "source": [
        "##### 2. What is/are the insight(s) found from the chart?"
      ],
      "metadata": {
        "id": "_A0T_YJQ2tKf"
      }
    },
    {
      "cell_type": "markdown",
      "source": [
        "- No clear correlation between reviews and price\n",
        "- Most listings have low-moderate reviews and prices\n",
        "- Some outliers with high prices despite few reviews\n"
      ],
      "metadata": {
        "id": "EhZSW7FN2tKf"
      }
    },
    {
      "cell_type": "markdown",
      "source": [
        "##### 3. Will the gained insights help creating a positive business impact?\n",
        "Are there any insights that lead to negative growth? Justify with specific reason."
      ],
      "metadata": {
        "id": "E_ZhhLp02tKf"
      }
    },
    {
      "cell_type": "markdown",
      "source": [
        "- Highlights other factors beyond reviews influence price\n",
        "\n",
        "- Informs marketing to focus on diverse value propositions\n",
        "\n",
        "- Guides hosts to consider multiple factors for pricing\n"
      ],
      "metadata": {
        "id": "5VylUFCM2tKf"
      }
    },
    {
      "cell_type": "markdown",
      "source": [
        "## Pricing Strategies and Market Insights\n",
        "<hr>"
      ],
      "metadata": {
        "id": "UX38kd48zUHj"
      }
    },
    {
      "cell_type": "markdown",
      "source": [
        "#### Visualize the top 10 least expensive neighborhood-room type combinations"
      ],
      "metadata": {
        "id": "OH-pJp9IphqM"
      }
    },
    {
      "cell_type": "code",
      "source": [
        "# Identify affordable options for budget-conscious travelers\n",
        "# Informs targeted marketing and recommendations, aligning with increasing bookings objective\n",
        "\n",
        "\n",
        "top_10_least_exp_nb = df.groupby(['neighbourhood', 'room_type'])['price'].mean().nsmallest(10).reset_index()\n",
        "plt.figure(figsize=(12, 6))\n",
        "sns.barplot(x='neighbourhood', y='price', hue='room_type', data=top_10_least_exp_nb_df, palette=\"viridis\")\n",
        "plt.title('Top 10 Least Expensive Neighborhoods with Room Type Distribution')\n",
        "plt.xlabel('Neighbourhood')\n",
        "plt.ylabel('Price')\n",
        "plt.xticks(rotation=45)\n",
        "plt.legend(title='Room Type')\n",
        "plt.show()\n"
      ],
      "metadata": {
        "id": "kuRf4wtuphqN"
      },
      "execution_count": null,
      "outputs": []
    },
    {
      "cell_type": "markdown",
      "source": [
        "##### 1. Why did you pick the specific chart?"
      ],
      "metadata": {
        "id": "bbFf2-_FphqN"
      }
    },
    {
      "cell_type": "markdown",
      "source": [
        "Bar chart effectively compares prices across combinations, color distinguishes room types\n"
      ],
      "metadata": {
        "id": "loh7H2nzphqN"
      }
    },
    {
      "cell_type": "markdown",
      "source": [
        "##### 2. What is/are the insight(s) found from the chart?"
      ],
      "metadata": {
        "id": "_ouA3fa0phqN"
      }
    },
    {
      "cell_type": "markdown",
      "source": [
        "Shared Rooms dominate, appealing to budget travelers\n",
        "\n",
        "Private Rooms offer competitive prices in some neighborhoods (e.g., Graniteville)\n",
        "\n",
        "Most listings are in the $13-30 price range\n"
      ],
      "metadata": {
        "id": "VECbqPI7phqN"
      }
    },
    {
      "cell_type": "markdown",
      "source": [
        "##### 3. Will the gained insights help creating a positive business impact?\n",
        "Are there any insights that lead to negative growth? Justify with specific reason."
      ],
      "metadata": {
        "id": "Seke61FWphqN"
      }
    },
    {
      "cell_type": "markdown",
      "source": [
        "Attracts budget-conscious travelers\n",
        "\n",
        "Promotes diversity of options\n",
        "\n",
        "Encourages host participation in affordable area"
      ],
      "metadata": {
        "id": "DW4_bGpfphqN"
      }
    },
    {
      "cell_type": "markdown",
      "source": [
        "#### Visualize the relationship between neighborhood and minimum nights, colored by neighborhood group\n"
      ],
      "metadata": {
        "id": "n3dbpmDWp1ck"
      }
    },
    {
      "cell_type": "code",
      "source": [
        "# Understand guest stay duration preferences across different neighborhoods and boroughs, potentially informing marketing and pricing strategies\n",
        "\n",
        "ngandmn = df.groupby(['neighbourhood','neighbourhood_group'])['minimum_nights'].mean().sort_values(ascending=False).head(20).reset_index()\n",
        "sns.barplot(data = ngandmn ,y = 'neighbourhood', x ='minimum_nights', hue ='neighbourhood_group')\n",
        "plt.xlabel('Neighbourhood')\n",
        "plt.ylabel('Average Minimum Nights')\n",
        "plt.title('Top 20 Neighbourhoods by Average Minimum Nights')\n",
        "plt.legend(title='Neighbourhood Group')\n",
        "plt.show()"
      ],
      "metadata": {
        "id": "bwevp1tKp1ck"
      },
      "execution_count": null,
      "outputs": []
    },
    {
      "cell_type": "markdown",
      "source": [
        "##### 1. Why did you pick the specific chart?"
      ],
      "metadata": {
        "id": "ylSl6qgtp1ck"
      }
    },
    {
      "cell_type": "markdown",
      "source": [
        "Bar chart to compare average minimum nights across neighborhoods, with color-coding for neighborhood groups to add context.\n"
      ],
      "metadata": {
        "id": "m2xqNkiQp1ck"
      }
    },
    {
      "cell_type": "markdown",
      "source": [
        "##### 2. What is/are the insight(s) found from the chart?"
      ],
      "metadata": {
        "id": "ZWILFDl5p1ck"
      }
    },
    {
      "cell_type": "markdown",
      "source": [
        "Bronx neighborhoods tend to have higher average minimum night stays, particularly Spuyten Duyvil, North Riverdale, and Olinville.\n",
        "\n",
        "Manhattan neighborhoods, especially in prime areas like Greenwich Village and Murray Hill, also exhibit relatively high minimum nights.\n",
        "\n",
        "This suggests that guests staying in these areas often opt for longer durations, potentially influencing pricing and availability strategies."
      ],
      "metadata": {
        "id": "x-lUsV2mp1ck"
      }
    },
    {
      "cell_type": "markdown",
      "source": [
        "##### 3. Will the gained insights help creating a positive business impact?\n",
        "Are there any insights that lead to negative growth? Justify with specific reason."
      ],
      "metadata": {
        "id": "M7G43BXep1ck"
      }
    },
    {
      "cell_type": "markdown",
      "source": [
        "Positive:\n",
        "\n",
        "Tailor marketing and recommendations to highlight longer stays in the Bronx and specific Manhattan neighborhoods, attracting guests seeking extended trips.\n",
        "\n",
        "Adjust pricing strategies in these areas to potentially offer discounts for longer stays, incentivizing bookings and increasing occupancy rates.\n",
        "\n",
        "Negative:\n",
        "\n",
        "High minimum nights in certain areas might deter travelers seeking shorter stays, potentially impacting bookings in those neighborhoods."
      ],
      "metadata": {
        "id": "5wwDJXsLp1cl"
      }
    },
    {
      "cell_type": "markdown",
      "source": [
        "#### Visualize yearly trend of Airbnb prices in New York by neighborhood group"
      ],
      "metadata": {
        "id": "pSpWVZQlezFF"
      }
    },
    {
      "cell_type": "code",
      "source": [
        "# Helps understand price evolution across different areas, informing pricing strategies & investment decisions\n",
        "\n",
        "df_datecleaned['year'] = df_datecleaned['year'].astype(int)\n",
        "g = sns.FacetGrid(df_datecleaned, col='neighbourhood_group', col_wrap=5, height=4, sharey=False)\n",
        "g.map(sns.lineplot, 'year', 'price', estimator='mean', errorbar=None)\n",
        "g.map(sns.regplot, 'year', 'price', scatter=False, line_kws={\"color\": \"red\"})\n",
        "g.set_titles(col_template=\"{col_name}\")\n",
        "g.set_axis_labels('Years', 'Price')\n",
        "g.fig.suptitle(\"Yearly Trend of Airbnb Prices in New York by Neighbourhood Group\", y=1.02)\n",
        "for ax in g.axes.flat:\n",
        "    ax.set_xticks(df_datecleaned['year'].unique())\n",
        "    ax.set_xticklabels(df_datecleaned['year'].unique(), rotation=45)\n",
        "plt.show()"
      ],
      "metadata": {
        "id": "ZjWBgjvrezFL"
      },
      "execution_count": null,
      "outputs": []
    },
    {
      "cell_type": "markdown",
      "source": [
        "##### 1. Why did you pick the specific chart?"
      ],
      "metadata": {
        "id": "kpU-xbyAezFL"
      }
    },
    {
      "cell_type": "markdown",
      "source": [
        "FacetGrid with line plots and regression lines to visualize price trends over time for each neighborhood group, allowing for easy comparison\n"
      ],
      "metadata": {
        "id": "9Nf0WblgezFL"
      }
    },
    {
      "cell_type": "markdown",
      "source": [
        "##### 2. What is/are the insight(s) found from the chart?"
      ],
      "metadata": {
        "id": "bc0B9xLDezFL"
      }
    },
    {
      "cell_type": "markdown",
      "source": [
        "- Bronx: Shows the most significant price increase with a clear upward trend.\n",
        "\n",
        "- Manhattan: Follows closely behind the Bronx in terms of price growth.\n",
        "\n",
        "- Brooklyn: Prices are increasing but at a slower pace compared to the Bronx and Manhattan\n",
        "\n",
        "- Queens: Demonstrates relatively stable prices with minimal fluctuation over the years\n",
        "\n",
        "- Staten Island: Shows a slight downward trend in prices"
      ],
      "metadata": {
        "id": "UjPIhHgMezFL"
      }
    },
    {
      "cell_type": "markdown",
      "source": [
        "##### 3. Will the gained insights help creating a positive business impact?\n",
        "Are there any insights that lead to negative growth? Justify with specific reason."
      ],
      "metadata": {
        "id": "loEERgVkezFL"
      }
    },
    {
      "cell_type": "markdown",
      "source": [
        "Positive:\n",
        "- Informs pricing strategies for hosts and Airbnb in different neighborhood groups\n",
        "\n",
        "- Highlights potential for higher earnings in areas with increasing prices (Bronx, Manhattan)\n",
        "\n",
        "- Identifies opportunities for investment and expansion in areas with growing demand and rising prices\n",
        "\n",
        "Negative:\n",
        " - Declining prices in Staten Island might indicate lower demand or market saturation, potentially impacting host earnings in that area"
      ],
      "metadata": {
        "id": "dVDDd8OsezFM"
      }
    },
    {
      "cell_type": "markdown",
      "source": [
        "#### Visualize the relationship between availability_365 and price using a scatter plot\n"
      ],
      "metadata": {
        "id": "BoH5Wy4ygLCt"
      }
    },
    {
      "cell_type": "code",
      "source": [
        "# Investigate if the availability of a listing influences its price\n",
        "\n",
        "plt.scatter(df['availability_365'], df['price'])\n",
        "plt.xlabel('availability_365')\n",
        "plt.ylabel('Price')\n",
        "plt.title('Relationship between availability_365 and Price')\n",
        "plt.show()"
      ],
      "metadata": {
        "id": "SwZwaA6YgLCy"
      },
      "execution_count": null,
      "outputs": []
    },
    {
      "cell_type": "markdown",
      "source": [
        "##### 1. Why did you pick the specific chart?"
      ],
      "metadata": {
        "id": "lX0lq43jgLCy"
      }
    },
    {
      "cell_type": "markdown",
      "source": [
        "Scatter plot is suitable for visualizing the relationship between two numerical variables, allowing us to observe any patterns or trends\n"
      ],
      "metadata": {
        "id": "1Z-fvtXWgLCz"
      }
    },
    {
      "cell_type": "markdown",
      "source": [
        "##### 2. What is/are the insight(s) found from the chart?"
      ],
      "metadata": {
        "id": "jkN4vyWygLCz"
      }
    },
    {
      "cell_type": "markdown",
      "source": [
        "The scatter plot shows a wide spread of points with no clear discernible pattern or trend.\n",
        "\n",
        "This suggests that there is no strong correlation between a listing's availability and its price"
      ],
      "metadata": {
        "id": "b-19wrjWgLCz"
      }
    },
    {
      "cell_type": "markdown",
      "source": [
        "##### 3. Will the gained insights help creating a positive business impact?\n",
        "Are there any insights that lead to negative growth? Justify with specific reason."
      ],
      "metadata": {
        "id": "uGYKAKVVgLCz"
      }
    },
    {
      "cell_type": "markdown",
      "source": [
        "This insight suggests that pricing strategies might not need to be heavily influenced by availability alone\n",
        "\n",
        "Hosts may have more flexibility in setting prices without significant concerns about impacting occupancy rates solely based on availability\n",
        "\n",
        "\n",
        "Negative:\n",
        "There could be a potential missed opportunity for dynamic pricing strategies that take into account\n",
        "fluctuations in demand and availability\n"
      ],
      "metadata": {
        "id": "x9PwKrsLgLCz"
      }
    },
    {
      "cell_type": "markdown",
      "source": [
        "#### Visualize the average availability of listings by neighborhood group\n"
      ],
      "metadata": {
        "id": "Ag9LCva-p1cl"
      }
    },
    {
      "cell_type": "code",
      "source": [
        "# Understand booking patterns and demand across different areas of the city, informing marketing and host recommendations\n",
        "\n",
        "availablity_ng = df.groupby(['neighbourhood_group'])['availability_365'].mean().sort_values(ascending = False)\n",
        "sns.barplot(data = availablity_ng)\n",
        "plt.xlabel('Neighbourhood Group')\n",
        "plt.ylabel('Average Minimum Nights')\n",
        "plt.title('Ranking of neighbourhood groups by Availablity 365')\n",
        "plt.show()"
      ],
      "metadata": {
        "id": "EUfxeq9-p1cl"
      },
      "execution_count": null,
      "outputs": []
    },
    {
      "cell_type": "markdown",
      "source": [
        "##### 1. Why did you pick the specific chart?"
      ],
      "metadata": {
        "id": "E6MkPsBcp1cl"
      }
    },
    {
      "cell_type": "markdown",
      "source": [
        "Bar chart for easy comparison of average availability across neighborhood groups\n"
      ],
      "metadata": {
        "id": "V22bRsFWp1cl"
      }
    },
    {
      "cell_type": "markdown",
      "source": [
        "##### 2. What is/are the insight(s) found from the chart?"
      ],
      "metadata": {
        "id": "2cELzS2fp1cl"
      }
    },
    {
      "cell_type": "markdown",
      "source": [
        "Staten Island has the highest average availability, indicating potentially lower demand or more available listings.\n",
        "\n",
        "Brooklyn has the lowest average availability, suggesting high demand and potentially more bookings in this area.\n",
        "\n",
        "Other boroughs (Bronx, Queens, Manhattan) fall in between, with varying levels of availability."
      ],
      "metadata": {
        "id": "ozQPc2_Ip1cl"
      }
    },
    {
      "cell_type": "markdown",
      "source": [
        "##### 3. Will the gained insights help creating a positive business impact?\n",
        "Are there any insights that lead to negative growth? Justify with specific reason."
      ],
      "metadata": {
        "id": "3MPXvC8up1cl"
      }
    },
    {
      "cell_type": "markdown",
      "source": [
        "Positive:\n",
        "\n",
        "Target marketing efforts towards areas with higher availability (e.g., Staten Island) to boost bookings and occupancy rates\n",
        "\n",
        "Guide host recommendations in high-demand areas (e.g., Brooklyn) to optimize pricing and availability settings\n",
        "\n",
        "Negative:\n",
        "\n",
        "High availability in certain areas might indicate lower demand, potentially impacting host earnings in those neighborhoods.\n"
      ],
      "metadata": {
        "id": "GL8l1tdLp1cl"
      }
    },
    {
      "cell_type": "markdown",
      "source": [
        "#### Visualize the top 10 most expensive neighborhood-room type combinations"
      ],
      "metadata": {
        "id": "bamQiAODYuh1"
      }
    },
    {
      "cell_type": "code",
      "source": [
        "# Identify specific combinations commanding the highest average prices, informing targeted marketing and pricing strategies\n",
        "\n",
        "top_10_exp_nb = df.groupby(['neighbourhood', 'room_type'])['price'].mean().nlargest(10).reset_index()\n",
        "plt.figure(figsize=(12, 6))\n",
        "sns.barplot(x='neighbourhood', y='price', hue='room_type', data=top_10_exp_nb_df, palette=\"viridis\")\n",
        "plt.title('Top 10 Most Expensive Neighborhoods with Room Type Distribution')\n",
        "plt.xlabel('Neighbourhood')\n",
        "plt.ylabel('Price')\n",
        "plt.xticks(rotation=45)\n",
        "plt.legend(title='Room Type')\n",
        "plt.show()"
      ],
      "metadata": {
        "id": "TIJwrbroYuh3"
      },
      "execution_count": null,
      "outputs": []
    },
    {
      "cell_type": "markdown",
      "source": [
        "##### 1. Why did you pick the specific chart?"
      ],
      "metadata": {
        "id": "QHF8YVU7Yuh3"
      }
    },
    {
      "cell_type": "markdown",
      "source": [
        "Bar chart effectively compares prices across combinations, color distinguishes room types for easy interpretation\n"
      ],
      "metadata": {
        "id": "dcxuIMRPYuh3"
      }
    },
    {
      "cell_type": "markdown",
      "source": [
        "##### 2. What is/are the insight(s) found from the chart?"
      ],
      "metadata": {
        "id": "GwzvFGzlYuh3"
      }
    },
    {
      "cell_type": "markdown",
      "source": [
        "Entire home/apt listings dominate the top 10, suggesting premium pricing for entire spaces.\n",
        "\n",
        "South Beach stands out as the most expensive, likely due to its prime location and high demand.\n",
        "\n",
        "Other expensive neighborhoods like New Brighton, Willowbrook, Tribeca, etc., also have high average prices, primarily for entire homes/apartments\n",
        "\n",
        "Vinegar Hill is the only neighborhood with a shared room in the top 10, indicating a potential niche market for budget travelers in this otherwise expensive area.\n"
      ],
      "metadata": {
        "id": "uyqkiB8YYuh3"
      }
    },
    {
      "cell_type": "markdown",
      "source": [
        "##### 3. Will the gained insights help creating a positive business impact?\n",
        "Are there any insights that lead to negative growth? Justify with specific reason."
      ],
      "metadata": {
        "id": "qYpmQ266Yuh3"
      }
    },
    {
      "cell_type": "markdown",
      "source": [
        "Target marketing towards high-end travelers and showcase luxury listings in these specific neighborhood-room type combinations, particularly emphasizing entire homes/apartments\n",
        "\n",
        "Provide granular pricing suggestions to hosts based on neighborhood and room type.\n",
        "\n",
        "Explore further development of luxury offerings and budget-friendly options in high-priced areas."
      ],
      "metadata": {
        "id": "_WtzZ_hCYuh4"
      }
    },
    {
      "cell_type": "markdown",
      "source": [
        "Answer Here"
      ],
      "metadata": {
        "id": "XurU2NK2Lrea"
      }
    },
    {
      "cell_type": "markdown",
      "source": [
        "#### Visualize the monthly trend of Airbnb prices in New York"
      ],
      "metadata": {
        "id": "03n8oisnfWwt"
      }
    },
    {
      "cell_type": "code",
      "source": [
        "# Helps understand seasonal patterns in pricing, informing pricing strategies for hosts and Airbnb\n",
        "\n",
        "df_datecleaned['month'] = pd.Categorical(df_datecleaned['month'], categories=range(1, 13), ordered=True)\n",
        "monthly_mean_price = df_datecleaned.groupby(['month'])['price'].mean().sort_index()\n",
        "sns.lineplot(data=monthly_mean_price, marker='o')\n",
        "plt.title(\"Monthly trend of Airbnb prices in New York\")\n",
        "plt.ylabel('Price')\n",
        "plt.xlabel('Months')\n",
        "plt.xticks(ticks=range(1, 13), labels=['Jan', 'Feb', 'Mar', 'Apr', 'May', 'Jun', 'Jul', 'Aug', 'Sep', 'Oct', 'Nov', 'Dec'])\n",
        "plt.show()"
      ],
      "metadata": {
        "id": "nEmh6DRjfWwz"
      },
      "execution_count": null,
      "outputs": []
    },
    {
      "cell_type": "markdown",
      "source": [
        "##### 1. Why did you pick the specific chart?"
      ],
      "metadata": {
        "id": "pcA1H_0qfWwz"
      }
    },
    {
      "cell_type": "markdown",
      "source": [
        "Line chart to effectively visualize the trend of average prices across different months\n"
      ],
      "metadata": {
        "id": "_PGAiomzfWwz"
      }
    },
    {
      "cell_type": "markdown",
      "source": [
        "##### 2. What is/are the insight(s) found from the chart?"
      ],
      "metadata": {
        "id": "4rHdv9YlfWw0"
      }
    },
    {
      "cell_type": "markdown",
      "source": [
        "Prices tend to be higher from October to January, suggesting a seasonal peak during the holiday season and winter months\n",
        "\n",
        "Lower prices are observed in February and March, indicating potential off-season discounts or lower demand\n"
      ],
      "metadata": {
        "id": "TjxA6WRvfWw0"
      }
    },
    {
      "cell_type": "markdown",
      "source": [
        "##### 3. Will the gained insights help creating a positive business impact?\n",
        "Are there any insights that lead to negative growth? Justify with specific reason."
      ],
      "metadata": {
        "id": "8NzA1OOLfWw0"
      }
    },
    {
      "cell_type": "markdown",
      "source": [
        "- Informs pricing strategies for hosts, encouraging them to adjust prices based on seasonal demand\n",
        "\n",
        "- Enables Airbnb to offer promotions or discounts during off-peak months to attract bookings\n",
        "\n",
        "- Helps guests anticipate price fluctuations and plan their trips accordingly\n"
      ],
      "metadata": {
        "id": "ne3hxMSJfWw0"
      }
    },
    {
      "cell_type": "markdown",
      "source": [
        "## Futher Possible Analysis\n",
        "<hr>"
      ],
      "metadata": {
        "id": "PSRxEb2b1-70"
      }
    },
    {
      "cell_type": "markdown",
      "source": [
        "#### Visualize the correlation between numerical variables using a heatmap"
      ],
      "metadata": {
        "id": "NC_X3p0fY2L0"
      }
    },
    {
      "cell_type": "code",
      "source": [
        "# Helps identify potential relationships between variables, which could inform feature selection for modeling or further exploratory analysis\n",
        "\n",
        "df_corr = df.loc[ : , ['price','minimum_nights','number_of_reviews','calculated_host_listings_count','availability_365']].corr()\n",
        "sns.heatmap(data = df_corr)"
      ],
      "metadata": {
        "id": "xyC9zolEZNRQ"
      },
      "execution_count": null,
      "outputs": []
    },
    {
      "cell_type": "markdown",
      "source": [
        "##### 1. Why did you pick the specific chart?"
      ],
      "metadata": {
        "id": "UV0SzAkaZNRQ"
      }
    },
    {
      "cell_type": "markdown",
      "source": [
        "A heatmap effectively visualizes the correlation matrix, showing the strength and direction of relationships between variables using color intensity\n"
      ],
      "metadata": {
        "id": "DVPuT8LYZNRQ"
      }
    },
    {
      "cell_type": "markdown",
      "source": [
        "##### 2. What is/are the insight(s) found from the chart?"
      ],
      "metadata": {
        "id": "YPEH6qLeZNRQ"
      }
    },
    {
      "cell_type": "markdown",
      "source": [
        "The heatmap indicates no strong correlations (close to 1 or -1) between the selected variables: price, minimum_nights, number_of_reviews, calculated_host_listings_count, and availability_365.\n",
        "\n",
        "This suggests that these variables might not have a direct linear relationship with each other\n",
        "\n"
      ],
      "metadata": {
        "id": "bfSqtnDqZNRR"
      }
    },
    {
      "cell_type": "markdown",
      "source": [
        "#### Visualize pairwise relationships between numerical variables using a pair plot.\n"
      ],
      "metadata": {
        "id": "q29F0dvdveiT"
      }
    },
    {
      "cell_type": "code",
      "source": [
        "# Explore potential relationships and distributions of key metrics, informing feature selection and further analysis.\n",
        "sns.pairplot(df_corr)\n",
        "plt.show()"
      ],
      "metadata": {
        "id": "o58-TEIhveiU"
      },
      "execution_count": null,
      "outputs": []
    },
    {
      "cell_type": "markdown",
      "source": [
        "##### 1. Why did you pick the specific chart?"
      ],
      "metadata": {
        "id": "EXh0U9oCveiU"
      }
    },
    {
      "cell_type": "markdown",
      "source": [
        "Pair plot provides a concise overview of relationships between multiple variables, showing both scatter plots and distributions for each pair"
      ],
      "metadata": {
        "id": "eMmPjTByveiU"
      }
    },
    {
      "cell_type": "markdown",
      "source": [
        "##### 2. What is/are the insight(s) found from the chart?"
      ],
      "metadata": {
        "id": "22aHeOlLveiV"
      }
    },
    {
      "cell_type": "markdown",
      "source": [
        "- No strong linear correlations observed between price, minimum_nights, number_of_reviews, calculated_host_listings_count, and availability_365\n",
        "- Histograms reveal the distribution of each variable:\n",
        "- Price is right-skewed, with most listings in the lower price range\n",
        "- Minimum_nights and calculated_host_listings_count are also right-skewed, indicating a few listings with very high values\n",
        "- Number_of_reviews is heavily skewed right, most listings have few reviews\n",
        "- Availability_365 is fairly evenly distributed, with a slight skew towards higher availability\n"
      ],
      "metadata": {
        "id": "uPQ8RGwHveiV"
      }
    },
    {
      "cell_type": "markdown",
      "source": [
        "## **5. Solution to Business Objective**"
      ],
      "metadata": {
        "id": "JcMwzZxoAimU"
      }
    },
    {
      "cell_type": "markdown",
      "source": [
        "#### What do you suggest the client to achieve Business Objective ?\n",
        "Explain Briefly."
      ],
      "metadata": {
        "id": "8G2x9gOozGDZ"
      }
    },
    {
      "cell_type": "markdown",
      "source": [
        "## Understanding Customer Preferences and Market Dynamics <hr>\n",
        "\n",
        "**1. Targeted Marketing Campaigns**\n",
        "\n",
        "*  Budget-conscious Travelers: Focus on promoting listings in the Bronx (e.g., Hunts Point, Morris Heights) and neighborhoods like Randall Manor, emphasizing affordability (shared/private rooms, $13-30 range). Highlight unique experiences and attractions in these areas to appeal to budget-minded travelers.\n",
        "\n",
        "*  Mid-Range Travelers: Target popular neighborhoods like Williamsburg and Bedford-Stuyvesant, showcasing their diverse offerings and vibrant atmosphere. Emphasize the variety of room types and price points available to cater to different preferences within this segment\n",
        "\n",
        "*  Luxury Seekers:* Create campaigns focusing on premium listings in Manhattan and high-priced neighborhoods like South Beach and Tribeca. Highlight exclusivity, unique amenities, and high-end experiences, targeting affluent travelers through relevant channels.\n",
        "\n",
        "* Families/Groups: Feature spacious listings with family-friendly amenities in neighborhoods with longer average stays, such as Greenwich Village and Murray Hill. Showcase proximity to attractions and highlight the suitability for families and groups\n",
        "\n",
        "\n",
        "**2. Personalized Recommendations:**\n",
        "\n",
        "*   Implement a recommendation engine that leverages guest preferences (neighborhoods, room types), past bookings, search history, budget, and desired length of stay..\n",
        "\n",
        "*   Consider peak booking days (Sundays, Mondays, Saturdays) when suggesting listings to increase the chances of conversion\n",
        "\n",
        "\n",
        "**3. Optimize Search and Filtering Options::**\n",
        "\n",
        "*  Enhance filters to include neighborhood group, specific neighborhood, room type, price range, minimum nights, amenities, and a \"value\" filter highlighting high-reviewed and competitively priced listings.\n",
        "\n",
        "\n",
        "**4. Guest Reviews and Ratings:**\n",
        "\n",
        "*   Proactively encourage reviews through personalized reminders or incentives, building on the positive trend observed in 2019\n",
        "\n",
        "*  Showcase positive reviews prominently to build trust and credibility\n",
        "\n",
        "*   Address negative reviews promptly and professionally to demonstrate commitment to guest satisfaction\n",
        "\n",
        "\n",
        "\n",
        "## Identifying Growth Opportunities\n",
        "<hr>\n",
        "\n",
        "**1.Focus on Growing Neighborhoods:**\n",
        "*   Prioritize marketing and promotions in emerging neighborhoods with high booking rates, particularly those identified in Staten Island and Brooklyn.\n",
        "\n",
        "* Offer incentives or support programs for new hosts in these areas to increase accommodation supply\n",
        "\n",
        "*   Collaborate with local businesses to create unique experiences that attract guests to these growing areas\n",
        "\n",
        "**2. Target Underserved Areas:**\n",
        "\n",
        "*  Conduct market research to understand the needs and preferences of potential guests in areas like Queens with low listing density but potential for growth\n",
        "\n",
        "* Develop targeted marketing campaigns and host acquisition strategies to increase Airbnb's presence in these underserved markets.\n",
        "\n",
        "**3. Capitalize on Growth Trends:**\n",
        "\n",
        "* Encourage Entire home/apt listings in neighborhoods where they're less common to cater to the high demand for this room type\n",
        "\n",
        "* Provide resources to help hosts create appealing listings for entire homes/apartments\n",
        "\n",
        "\n",
        "## Empowering Hosts and Optimizing the Host Experience\n",
        "<hr>\n",
        "\n",
        "**1. Host Education and Support:**\n",
        "\n",
        "* Expand the Host Education Center with comprehensive resources on various hosting aspects.\n",
        "\n",
        "* Offer personalized support and mentorship programs to help hosts improve their performance.\n",
        "\n",
        "* Foster community through forums and events to facilitate knowledge sharing and collaboration\n",
        "\n",
        "**2.Recognize and Reward High-Performing Hosts:**\n",
        "\n",
        "* Implement a tiered rewards program for high-performing hosts based on reviews, response rates, etc.\n",
        "\n",
        "* Offer benefits like featured listings, priority support, or discounts\n",
        "\n",
        "\n",
        "**3. Proactive Host Engagement:**\n",
        "* Reach out to hosts with zero-review properties, offering guidance to improve their listings and attract bookings\n",
        "\n",
        "* Promote these listings and consider guest incentives for booking and reviewing them\n",
        "\n",
        "## Pricing Strategies and Market Insights\n",
        "<hr>\n",
        "\n",
        "**1. Educate Hosts on Pricing Dynamics:**\n",
        "* Leverage insights on seasonal trends (higher prices from October to January), room type influence (Entire home/apt commands premium), and neighborhood variations (Manhattan being most expensive) to guide hosts in setting optimal prices\n",
        "\n",
        "* Provide clear information on peak and off-peak seasons, price variations across neighborhoods, and the impact of room type on pricing.\n",
        "\n",
        "* Provide tools for performance comparison and market trend analysis\n",
        "\n",
        "**2.Explore Dynamic Pricing:**\n",
        "\n",
        "* Given the lack of strong correlation between availability and price, conduct pilot programs to test dynamic pricing models considering factors like demand, day of the week, competitor prices, and seasonality.\n",
        "\n",
        "* Gather host feedback to refine the algorithms\n",
        "\n",
        "\n",
        "**3.Transparency and Communication:**\n",
        "* Maintain open and transparent communication with guests about pricing strategies and any potential fluctuations to manage expectations and avoid negative experiences.\n",
        "\n",
        "* Provide hosts with access to data and insights on market trends and competitor pricing to help them make informed decisions about their pricing strategies.\n",
        "\n",
        "**4.Personalized Pricing Recommendations:**\n",
        "* If feasible, develop a tool that leverages machine learning algorithms and historical data to provide personalized pricing recommendations to hosts.\n",
        "\n",
        "* Consider factors such as listing characteristics, location, reviews, historical performance, and competitor prices to generate tailored pricing suggestions."
      ],
      "metadata": {
        "id": "pASKb0qOza21"
      }
    },
    {
      "cell_type": "markdown",
      "source": [
        "# **Conclusion**"
      ],
      "metadata": {
        "id": "gCX9965dhzqZ"
      }
    },
    {
      "cell_type": "markdown",
      "source": [
        "This comprehensive analysis of the Airbnb dataset for New York City has provided a wealth of actionable insights into customer preferences, market dynamics, host performance, and pricing strategies. By leveraging these findings, Airbnb can enhance the guest experience, expand its market reach, empower hosts, and optimize pricing to achieve sustainable growth and success in this competitive market.\n",
        "\n",
        "The data reveals a diverse landscape of customer preferences, with distinct segments based on location, room type, price sensitivity, and length of stay. This understanding allows for targeted marketing campaigns, personalized recommendations, and improved search functionalities that cater to the specific needs of each segment.\n",
        "\n",
        "Furthermore, the identification of growing neighborhoods and the analysis of historical growth trends offer valuable opportunities for Airbnb to expand its presence and tap into new markets. By promoting these emerging areas and supporting new hosts, Airbnb can foster a thriving ecosystem that benefits both guests and hosts.\n",
        "\n",
        "The insights into host performance underscore the importance of recognizing and rewarding high-performing hosts while proactively engaging with those needing support. By providing comprehensive resources, personalized guidance, and community-building initiatives, Airbnb can empower hosts to deliver exceptional experiences and contribute to the platform's success.\n",
        "\n",
        "Finally, the analysis of pricing dynamics, including seasonal trends, the influence of room type and neighborhood, and the potential for dynamic pricing, provides a roadmap for optimizing pricing strategies that balance profitability with guest satisfaction.\n",
        "\n",
        "By implementing these data-driven recommendations, Airbnb can strengthen its position in the New York City market, foster a thriving host community, and deliver exceptional experiences to guests, ultimately achieving its business objectives of growth, revenue, and customer satisfaction."
      ],
      "metadata": {
        "id": "Fjb1IsQkh3yE"
      }
    },
    {
      "cell_type": "markdown",
      "source": [
        "### ***Hurrah! You have successfully completed your EDA Capstone Project !!!***"
      ],
      "metadata": {
        "id": "gIfDvo9L0UH2"
      }
    }
  ]
}